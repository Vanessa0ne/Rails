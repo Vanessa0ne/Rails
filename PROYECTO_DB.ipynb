{
  "nbformat": 4,
  "nbformat_minor": 0,
  "metadata": {
    "colab": {
      "provenance": [],
      "authorship_tag": "ABX9TyMyEgTNyS1POHA9rijI+uZ1",
      "include_colab_link": true
    },
    "kernelspec": {
      "name": "python3",
      "display_name": "Python 3"
    },
    "language_info": {
      "name": "python"
    }
  },
  "cells": [
    {
      "cell_type": "markdown",
      "metadata": {
        "id": "view-in-github",
        "colab_type": "text"
      },
      "source": [
        "<a href=\"https://colab.research.google.com/github/Vanessa0ne/Rails/blob/main/PROYECTO_DB.ipynb\" target=\"_parent\"><img src=\"https://colab.research.google.com/assets/colab-badge.svg\" alt=\"Open In Colab\"/></a>"
      ]
    },
    {
      "cell_type": "code",
      "execution_count": 1,
      "metadata": {
        "colab": {
          "base_uri": "https://localhost:8080/"
        },
        "id": "XbM2oHffJRsx",
        "outputId": "147098dd-8516-49b1-ef4d-a47bd6709f90"
      },
      "outputs": [
        {
          "output_type": "stream",
          "name": "stdout",
          "text": [
            "Requirement already satisfied: Pillow in /usr/local/lib/python3.10/dist-packages (11.0.0)\n"
          ]
        }
      ],
      "source": [
        "pip install Pillow\n"
      ]
    },
    {
      "cell_type": "markdown",
      "source": [
        "#Paso 2: Crear la base de datos y las tablas necesarias\n",
        "Aquí hay un código que establece una base de datos SQLite y crea las tablas para las mascotas y sus tutores"
      ],
      "metadata": {
        "id": "JTFK-3ccJ6CU"
      }
    },
    {
      "cell_type": "markdown",
      "source": [],
      "metadata": {
        "id": "Xu-RfAsDJ5ij"
      }
    },
    {
      "cell_type": "code",
      "source": [
        "import sqlite3\n",
        "\n",
        "# Conectar a la base de datos (se creará si no existe)\n",
        "conn = sqlite3.connect('mascotas.db')\n",
        "cursor = conn.cursor()\n",
        "\n",
        "# Crear tabla de tutores\n",
        "cursor.execute('''\n",
        "CREATE TABLE IF NOT EXISTS tutores (\n",
        "    id INTEGER PRIMARY KEY AUTOINCREMENT,\n",
        "    nombre TEXT NOT NULL,\n",
        "    email TEXT NOT NULL UNIQUE\n",
        ")\n",
        "''')\n",
        "\n",
        "# Crear tabla de mascotas\n",
        "cursor.execute('''\n",
        "CREATE TABLE IF NOT EXISTS mascotas (\n",
        "    id INTEGER PRIMARY KEY AUTOINCREMENT,\n",
        "    nombre TEXT NOT NULL,\n",
        "    especie TEXT NOT NULL,\n",
        "    raza TEXT,\n",
        "    vacunada BOOLEAN NOT NULL,\n",
        "    esterilizada BOOLEAN NOT NULL,\n",
        "    foto TEXT,\n",
        "    tutor_id INTEGER,\n",
        "    FOREIGN KEY (tutor_id) REFERENCES tutores (id)\n",
        ")\n",
        "''')\n",
        "\n",
        "# Guardar los cambios y cerrar la conexión\n",
        "conn.commit()\n",
        "conn.close()\n"
      ],
      "metadata": {
        "id": "uDq-8UqHJYdl"
      },
      "execution_count": 2,
      "outputs": []
    },
    {
      "cell_type": "markdown",
      "source": [
        "#Paso 3: Función para registrar un tutor y una mascota"
      ],
      "metadata": {
        "id": "rizBosf_J9L8"
      }
    },
    {
      "cell_type": "code",
      "source": [
        "def registrar_tutor(nombre, email):\n",
        "    conn = sqlite3.connect('mascotas.db')\n",
        "    cursor = conn.cursor()\n",
        "    try:\n",
        "        cursor.execute('INSERT INTO tutores (nombre, email) VALUES (?, ?)', (nombre, email))\n",
        "        conn.commit()\n",
        "        print(\"Tutor registrado exitosamente.\")\n",
        "    except sqlite3.IntegrityError:\n",
        "        print(\"El email ya está registrado.\")\n",
        "    finally:\n",
        "        conn.close()\n",
        "\n",
        "def registrar_mascota(nombre, especie, raza, vacunada, esterilizada, foto, tutor_id):\n",
        "    conn = sqlite3.connect('mascotas.db')\n",
        "    cursor = conn.cursor()\n",
        "    cursor.execute('INSERT INTO mascotas (nombre, especie, raza, vacunada, esterilizada, foto, tutor_id) VALUES (?, ?, ?, ?, ?, ?, ?)',\n",
        "                   (nombre, especie, raza, vacunada, esterilizada, foto, tutor_id))\n",
        "    conn.commit()\n",
        "    conn.close()\n",
        "    print(\"Mascota registrada exitosamente.\")\n"
      ],
      "metadata": {
        "id": "lea8akO2JhqB"
      },
      "execution_count": 3,
      "outputs": []
    },
    {
      "cell_type": "markdown",
      "source": [
        "#Paso 4: Ejemplo de uso"
      ],
      "metadata": {
        "id": "MM7uBYGrKGVX"
      }
    },
    {
      "cell_type": "code",
      "source": [
        "# Registrar un tutor\n",
        "registrar_tutor(\"Juan Pérez\", \"juan@example.com\")\n",
        "\n",
        "# Registrar una mascota\n",
        "# Asumiendo que el tutor tiene ID 1\n",
        "registrar_mascota(\"Firulais\", \"Perro\", \"Labrador\", True, True, \"foto_firulais.jpg\", 1)\n"
      ],
      "metadata": {
        "colab": {
          "base_uri": "https://localhost:8080/"
        },
        "id": "hkutFJCUJneM",
        "outputId": "43fb5c2b-6672-448c-a9e2-1e476b9e4664"
      },
      "execution_count": 4,
      "outputs": [
        {
          "output_type": "stream",
          "name": "stdout",
          "text": [
            "Tutor registrado exitosamente.\n",
            "Mascota registrada exitosamente.\n"
          ]
        }
      ]
    },
    {
      "cell_type": "code",
      "source": [],
      "metadata": {
        "id": "1ALcEzPbJtdi"
      },
      "execution_count": null,
      "outputs": []
    }
  ]
}