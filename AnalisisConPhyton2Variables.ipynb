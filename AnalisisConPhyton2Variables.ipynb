{
  "nbformat": 4,
  "nbformat_minor": 0,
  "metadata": {
    "colab": {
      "provenance": [],
      "authorship_tag": "ABX9TyPjnPS6c6X6ZetWYCcRQEZA",
      "include_colab_link": true
    },
    "kernelspec": {
      "name": "python3",
      "display_name": "Python 3"
    },
    "language_info": {
      "name": "python"
    }
  },
  "cells": [
    {
      "cell_type": "markdown",
      "metadata": {
        "id": "view-in-github",
        "colab_type": "text"
      },
      "source": [
        "<a href=\"https://colab.research.google.com/github/Vanessa0ne/Rails/blob/master/AnalisisConPhyton2Variables.ipynb\" target=\"_parent\"><img src=\"https://colab.research.google.com/assets/colab-badge.svg\" alt=\"Open In Colab\"/></a>"
      ]
    },
    {
      "cell_type": "markdown",
      "source": [
        "##Variables.\n",
        "## Para asignar una variables   **=**  \n",
        "\n",
        "asignar solo 2 veces el nombre a una variables!"
      ],
      "metadata": {
        "id": "1MALCK-FLv3v"
      }
    },
    {
      "cell_type": "code",
      "execution_count": null,
      "metadata": {
        "id": "lUMwgkC8LXJF"
      },
      "outputs": [],
      "source": [
        "name = \"vanessa\"\n",
        "print: name"
      ]
    },
    {
      "cell_type": "code",
      "source": [
        "print(name)"
      ],
      "metadata": {
        "id": "nDGFIXwWMHTk",
        "colab": {
          "base_uri": "https://localhost:8080/"
        },
        "outputId": "c8c612c5-c4ed-4733-d31b-e3f532d93d70"
      },
      "execution_count": null,
      "outputs": [
        {
          "output_type": "stream",
          "name": "stdout",
          "text": [
            "vanessa\n"
          ]
        }
      ]
    },
    {
      "cell_type": "code",
      "source": [
        "first_name = \"vanessa\"\n",
        "last_name = \"Sagredo Vadivia\""
      ],
      "metadata": {
        "id": "6hgnlSqXLzIi"
      },
      "execution_count": 8,
      "outputs": []
    },
    {
      "cell_type": "code",
      "source": [
        "full_name  = first_name + last_name\n",
        "print(full_name)"
      ],
      "metadata": {
        "colab": {
          "base_uri": "https://localhost:8080/"
        },
        "id": "RI1RO66bNsZ5",
        "outputId": "e81374b4-f729-4fa4-e85c-4424b0596700"
      },
      "execution_count": 9,
      "outputs": [
        {
          "output_type": "stream",
          "name": "stdout",
          "text": [
            "vanessaSagredo Vadivia\n"
          ]
        }
      ]
    },
    {
      "cell_type": "markdown",
      "source": [
        "##String Formatting_Interpolation.\n",
        "\n",
        "\n"
      ],
      "metadata": {
        "id": "7X9SFC4pOjU7"
      }
    },
    {
      "cell_type": "code",
      "source": [
        "sentence = f'hi, My name is {first_name} {last_name}'\n",
        "print(sentence)"
      ],
      "metadata": {
        "colab": {
          "base_uri": "https://localhost:8080/"
        },
        "id": "N8EGjKSL5Cvm",
        "outputId": "2e727c8d-a0ad-464b-f804-949a46c790f5"
      },
      "execution_count": 10,
      "outputs": [
        {
          "output_type": "stream",
          "name": "stdout",
          "text": [
            "hi, My name is vanessa Sagredo Vadivia\n"
          ]
        }
      ]
    },
    {
      "cell_type": "markdown",
      "source": [
        "#List Operations"
      ],
      "metadata": {
        "id": "ZvO0RAWI63vp"
      }
    },
    {
      "cell_type": "code",
      "source": [
        "# indesex: 0  1  2\n",
        "beatles = [\"john\", \"paul\", \"george\"]"
      ],
      "metadata": {
        "id": "ECT7mM3f7Ec6"
      },
      "execution_count": 11,
      "outputs": []
    },
    {
      "cell_type": "code",
      "source": [
        "beatles[0] # read"
      ],
      "metadata": {
        "colab": {
          "base_uri": "https://localhost:8080/",
          "height": 36
        },
        "id": "pj3b7LKl9nir",
        "outputId": "1076739d-c417-47b2-b684-e3a5fe51c18f"
      },
      "execution_count": 12,
      "outputs": [
        {
          "output_type": "execute_result",
          "data": {
            "text/plain": [
              "'john'"
            ],
            "application/vnd.google.colaboratory.intrinsic+json": {
              "type": "string"
            }
          },
          "metadata": {},
          "execution_count": 12
        }
      ]
    },
    {
      "cell_type": "code",
      "source": [
        "beatles.append('george') # create (in place)\n",
        "print(beatles)"
      ],
      "metadata": {
        "colab": {
          "base_uri": "https://localhost:8080/"
        },
        "id": "UteuZfc297VD",
        "outputId": "72a040fa-23b6-48b3-f53e-1d6638e58b52"
      },
      "execution_count": 13,
      "outputs": [
        {
          "output_type": "stream",
          "name": "stdout",
          "text": [
            "['john', 'paul', 'george', 'george']\n"
          ]
        }
      ]
    },
    {
      "cell_type": "code",
      "source": [
        "beatles[1] = \"paul\" #  update (in place)\n",
        "print(beatles)"
      ],
      "metadata": {
        "colab": {
          "base_uri": "https://localhost:8080/"
        },
        "id": "I5yfcVCp-mNh",
        "outputId": "717477be-7786-4abd-91b0-8482db4f90e6"
      },
      "execution_count": 14,
      "outputs": [
        {
          "output_type": "stream",
          "name": "stdout",
          "text": [
            "['john', 'paul', 'george', 'george']\n"
          ]
        }
      ]
    },
    {
      "cell_type": "markdown",
      "source": [
        "#Other List Operations"
      ],
      "metadata": {
        "id": "arDGc4JpABTx"
      }
    },
    {
      "cell_type": "code",
      "source": [
        "beatles"
      ],
      "metadata": {
        "colab": {
          "base_uri": "https://localhost:8080/"
        },
        "id": "8TMhNZGmAO8Y",
        "outputId": "6b77df5e-5d47-4f73-eaa2-f6fbc481beb4"
      },
      "execution_count": 15,
      "outputs": [
        {
          "output_type": "execute_result",
          "data": {
            "text/plain": [
              "['john', 'paul', 'george', 'george']"
            ]
          },
          "metadata": {},
          "execution_count": 15
        }
      ]
    },
    {
      "cell_type": "code",
      "source": [
        "beatles[1:3] # slise of 1 to 3 (excluded)"
      ],
      "metadata": {
        "colab": {
          "base_uri": "https://localhost:8080/"
        },
        "id": "f4Oa0z4ZAk2X",
        "outputId": "10d6fc3a-5fc9-4b05-f572-2bce489e0852"
      },
      "execution_count": 18,
      "outputs": [
        {
          "output_type": "execute_result",
          "data": {
            "text/plain": [
              "['paul', 'george']"
            ]
          },
          "metadata": {},
          "execution_count": 18
        }
      ]
    },
    {
      "cell_type": "code",
      "source": [],
      "metadata": {
        "id": "SrgUqBfUBwe9"
      },
      "execution_count": null,
      "outputs": []
    }
  ]
}