{
  "cells": [
    {
      "cell_type": "markdown",
      "metadata": {
        "id": "view-in-github",
        "colab_type": "text"
      },
      "source": [
        "<a href=\"https://colab.research.google.com/github/Vanessa0ne/Rails/blob/main/AnalisisConPhyton2Variables.ipynb\" target=\"_parent\"><img src=\"https://colab.research.google.com/assets/colab-badge.svg\" alt=\"Open In Colab\"/></a>"
      ]
    },
    {
      "cell_type": "markdown",
      "metadata": {
        "id": "1MALCK-FLv3v"
      },
      "source": [
        "##Variables.\n",
        "## Para asignar una variables   **=**  \n",
        "\n",
        "asignar solo 2 veces el nombre a una variables!"
      ]
    },
    {
      "cell_type": "code",
      "execution_count": null,
      "metadata": {
        "id": "lUMwgkC8LXJF"
      },
      "outputs": [],
      "source": [
        "name = \"vanessa\"\n",
        "print: name"
      ]
    },
    {
      "cell_type": "code",
      "execution_count": null,
      "metadata": {
        "colab": {
          "base_uri": "https://localhost:8080/"
        },
        "id": "nDGFIXwWMHTk",
        "outputId": "c8c612c5-c4ed-4733-d31b-e3f532d93d70"
      },
      "outputs": [
        {
          "name": "stdout",
          "output_type": "stream",
          "text": [
            "vanessa\n"
          ]
        }
      ],
      "source": [
        "print(name)"
      ]
    },
    {
      "cell_type": "code",
      "execution_count": null,
      "metadata": {
        "id": "6hgnlSqXLzIi"
      },
      "outputs": [],
      "source": [
        "first_name = \"vanessa\"\n",
        "last_name = \"Sagredo Vadivia\""
      ]
    },
    {
      "cell_type": "code",
      "execution_count": null,
      "metadata": {
        "colab": {
          "base_uri": "https://localhost:8080/"
        },
        "id": "RI1RO66bNsZ5",
        "outputId": "e81374b4-f729-4fa4-e85c-4424b0596700"
      },
      "outputs": [
        {
          "name": "stdout",
          "output_type": "stream",
          "text": [
            "vanessaSagredo Vadivia\n"
          ]
        }
      ],
      "source": [
        "full_name  = first_name + last_name\n",
        "print(full_name)"
      ]
    },
    {
      "cell_type": "markdown",
      "metadata": {
        "id": "7X9SFC4pOjU7"
      },
      "source": [
        "##String Formatting_Interpolation.\n",
        "\n",
        "\n"
      ]
    },
    {
      "cell_type": "code",
      "execution_count": null,
      "metadata": {
        "colab": {
          "base_uri": "https://localhost:8080/"
        },
        "id": "N8EGjKSL5Cvm",
        "outputId": "2e727c8d-a0ad-464b-f804-949a46c790f5"
      },
      "outputs": [
        {
          "name": "stdout",
          "output_type": "stream",
          "text": [
            "hi, My name is vanessa Sagredo Vadivia\n"
          ]
        }
      ],
      "source": [
        "sentence = f'hi, My name is {first_name} {last_name}'\n",
        "print(sentence)"
      ]
    },
    {
      "cell_type": "markdown",
      "metadata": {
        "id": "ZvO0RAWI63vp"
      },
      "source": [
        "#List Operations"
      ]
    },
    {
      "cell_type": "code",
      "execution_count": null,
      "metadata": {
        "id": "ECT7mM3f7Ec6"
      },
      "outputs": [],
      "source": [
        "# indesex: 0  1  2  3\n",
        "beatles = [\"john\", \"paul\", \"ringo\", \"george\"]"
      ]
    },
    {
      "cell_type": "code",
      "execution_count": null,
      "metadata": {
        "colab": {
          "base_uri": "https://localhost:8080/",
          "height": 36
        },
        "id": "pj3b7LKl9nir",
        "outputId": "046a54c0-8d4f-427a-e198-1a5e7a987a39"
      },
      "outputs": [
        {
          "data": {
            "application/vnd.google.colaboratory.intrinsic+json": {
              "type": "string"
            },
            "text/plain": [
              "'john'"
            ]
          },
          "execution_count": 4,
          "metadata": {},
          "output_type": "execute_result"
        }
      ],
      "source": [
        "beatles[0] # read"
      ]
    },
    {
      "cell_type": "code",
      "execution_count": null,
      "metadata": {
        "colab": {
          "base_uri": "https://localhost:8080/"
        },
        "id": "UteuZfc297VD",
        "outputId": "14f2f4df-d878-47de-a868-516bd5b94f76"
      },
      "outputs": [
        {
          "name": "stdout",
          "output_type": "stream",
          "text": [
            "['john', 'paul', 'ringo', 'george', 'george']\n"
          ]
        }
      ],
      "source": [
        "beatles.append('george') # create (in place)\n",
        "print(beatles)"
      ]
    },
    {
      "cell_type": "code",
      "execution_count": null,
      "metadata": {
        "colab": {
          "base_uri": "https://localhost:8080/"
        },
        "id": "I5yfcVCp-mNh",
        "outputId": "f4c5f581-96fd-4f74-8dee-60c796f79f89"
      },
      "outputs": [
        {
          "name": "stdout",
          "output_type": "stream",
          "text": [
            "['john', 'paul', 'ringo', 'george', 'george']\n"
          ]
        }
      ],
      "source": [
        "beatles[1] = \"paul\" #  update (in place)\n",
        "print(beatles)"
      ]
    },
    {
      "cell_type": "markdown",
      "metadata": {
        "id": "arDGc4JpABTx"
      },
      "source": [
        "#Other List Operations"
      ]
    },
    {
      "cell_type": "code",
      "execution_count": null,
      "metadata": {
        "colab": {
          "base_uri": "https://localhost:8080/"
        },
        "id": "8TMhNZGmAO8Y",
        "outputId": "08c8e3a1-c375-4877-b88a-e71450c54131"
      },
      "outputs": [
        {
          "data": {
            "text/plain": [
              "['john', 'paul', 'ringo', 'george', 'george']"
            ]
          },
          "execution_count": 7,
          "metadata": {},
          "output_type": "execute_result"
        }
      ],
      "source": [
        "beatles"
      ]
    },
    {
      "cell_type": "code",
      "execution_count": null,
      "metadata": {
        "colab": {
          "base_uri": "https://localhost:8080/"
        },
        "id": "f4Oa0z4ZAk2X",
        "outputId": "3336aa9a-55b0-4bfe-e340-f8e8070b4ee6"
      },
      "outputs": [
        {
          "data": {
            "text/plain": [
              "['paul', 'ringo']"
            ]
          },
          "execution_count": 8,
          "metadata": {},
          "output_type": "execute_result"
        }
      ],
      "source": [
        "beatles[1:3] # slise of 1 to 3 (excluded)"
      ]
    },
    {
      "cell_type": "code",
      "execution_count": null,
      "metadata": {
        "colab": {
          "base_uri": "https://localhost:8080/"
        },
        "id": "SrgUqBfUBwe9",
        "outputId": "857fd62a-df8f-4291-db8a-74934e4950af"
      },
      "outputs": [
        {
          "name": "stdout",
          "output_type": "stream",
          "text": [
            "['john', 'ringo', 'george', 'george']\n"
          ]
        }
      ],
      "source": [
        "del beatles[1] # delete (in place)\n",
        "print(beatles)"
      ]
    },
    {
      "cell_type": "markdown",
      "metadata": {
        "id": "tDZSu-PdHB5f"
      },
      "source": [
        "#Dict Operations"
      ]
    },
    {
      "cell_type": "code",
      "execution_count": null,
      "metadata": {
        "id": "OlnzeB8iHAxX"
      },
      "outputs": [],
      "source": [
        "instruments = {\"john\" : \"guitar\", \"paul\" : \"bass\"} # keys are  'str',  values to"
      ]
    },
    {
      "cell_type": "code",
      "execution_count": null,
      "metadata": {
        "colab": {
          "base_uri": "https://localhost:8080/",
          "height": 36
        },
        "id": "JkchkTJ1GU-h",
        "outputId": "ec514bae-469f-43ab-f376-bb5668db8e22"
      },
      "outputs": [
        {
          "data": {
            "application/vnd.google.colaboratory.intrinsic+json": {
              "type": "string"
            },
            "text/plain": [
              "'guitar'"
            ]
          },
          "execution_count": 12,
          "metadata": {},
          "output_type": "execute_result"
        }
      ],
      "source": [
        "instruments[\"john\"] # read"
      ]
    },
    {
      "cell_type": "code",
      "execution_count": null,
      "metadata": {
        "colab": {
          "base_uri": "https://localhost:8080/"
        },
        "id": "AR9BJgu_KkYb",
        "outputId": "d9cda2f2-140b-49a5-ae94-4a00b2fda103"
      },
      "outputs": [
        {
          "name": "stdout",
          "output_type": "stream",
          "text": [
            "{'john': 'guitar', 'paul': 'bass', 'ringo': 'drums'}\n"
          ]
        }
      ],
      "source": [
        "instruments['ringo'] = \"drums\" # create / update\n",
        "print(instruments)"
      ]
    },
    {
      "cell_type": "code",
      "execution_count": null,
      "metadata": {
        "colab": {
          "base_uri": "https://localhost:8080/"
        },
        "id": "4eJbOKa9PY0X",
        "outputId": "db1dcec1-5838-4535-b299-c5419332ced7"
      },
      "outputs": [
        {
          "data": {
            "text/plain": [
              "{'paul': 'bass', 'ringo': 'drums'}"
            ]
          },
          "execution_count": 14,
          "metadata": {},
          "output_type": "execute_result"
        }
      ],
      "source": [
        "del instruments['john']\n",
        "instruments"
      ]
    },
    {
      "cell_type": "markdown",
      "metadata": {
        "id": "E4xzlLVe1NKD"
      },
      "source": [
        "#Other Dict Operation"
      ]
    },
    {
      "cell_type": "code",
      "execution_count": null,
      "metadata": {
        "colab": {
          "base_uri": "https://localhost:8080/"
        },
        "id": "YS6llidC1yg1",
        "outputId": "289a9f71-5cb2-4675-fee3-ab7fe1a8ab9b"
      },
      "outputs": [
        {
          "data": {
            "text/plain": [
              "{'paul': 'bass', 'ringo': 'drums'}"
            ]
          },
          "execution_count": 15,
          "metadata": {},
          "output_type": "execute_result"
        }
      ],
      "source": [
        "instruments"
      ]
    },
    {
      "cell_type": "code",
      "execution_count": null,
      "metadata": {
        "id": "RVXjThBc2HTy"
      },
      "outputs": [],
      "source": [
        "instruments = ('john')"
      ]
    },
    {
      "cell_type": "code",
      "execution_count": null,
      "metadata": {
        "colab": {
          "base_uri": "https://localhost:8080/",
          "height": 36
        },
        "id": "J3iSesJr4p4G",
        "outputId": "2ceb1e18-f0b0-4855-c6fe-244a65ed842f"
      },
      "outputs": [
        {
          "data": {
            "application/vnd.google.colaboratory.intrinsic+json": {
              "type": "string"
            },
            "text/plain": [
              "'john'"
            ]
          },
          "execution_count": 18,
          "metadata": {},
          "output_type": "execute_result"
        }
      ],
      "source": [
        "instruments"
      ]
    },
    {
      "cell_type": "markdown",
      "metadata": {
        "id": "eiDSrQ_v5XEO"
      },
      "source": [
        "#Control Flow"
      ]
    },
    {
      "cell_type": "code",
      "execution_count": null,
      "metadata": {
        "id": "VQBAaD2O5QHB"
      },
      "outputs": [],
      "source": []
    },
    {
      "cell_type": "markdown",
      "metadata": {
        "id": "E9Jm7llmitLG"
      },
      "source": [
        "#Pruebas python Vanessa S.V!"
      ]
    },
    {
      "cell_type": "markdown",
      "source": [
        "#Lecture  0n3"
      ],
      "metadata": {
        "id": "SeLQuy48JMkQ"
      }
    },
    {
      "cell_type": "code",
      "execution_count": null,
      "metadata": {
        "colab": {
          "base_uri": "https://localhost:8080/"
        },
        "id": "YcySq3Sa44AH",
        "outputId": "4454c304-24bd-4716-985a-56045245b363"
      },
      "outputs": [
        {
          "name": "stdout",
          "output_type": "stream",
          "text": [
            "benjaminromain baranger\n",
            "hi, My name is benjamin romain baranger\n"
          ]
        }
      ],
      "source": [
        "name = \"benjamin\"\n",
        "print: name\n",
        "first_name = \"benjamin\"\n",
        "last_name = \"romain baranger\"\n",
        "full_name  = first_name + last_name\n",
        "print(full_name)\n",
        "sentence = f'hi, My name is {first_name} {last_name}'\n",
        "print(sentence)"
      ]
    },
    {
      "cell_type": "code",
      "execution_count": null,
      "metadata": {
        "colab": {
          "base_uri": "https://localhost:8080/"
        },
        "id": "gzMirGmzFZ3r",
        "outputId": "82b095f6-c294-4d18-9956-d28a88d7cdd0"
      },
      "outputs": [
        {
          "name": "stdout",
          "output_type": "stream",
          "text": [
            "chrisjames westerman\n",
            "hi, My name is chris james westerman\n"
          ]
        }
      ],
      "source": [
        "name = \"chris\"\n",
        "print: name\n",
        "first_name = \"chris\"\n",
        "last_name = \"james westerman\"\n",
        "full_name  = first_name + last_name\n",
        "print(full_name)\n",
        "sentence = f'hi, My name is {first_name} {last_name}'\n",
        "print(sentence)"
      ]
    },
    {
      "cell_type": "code",
      "execution_count": null,
      "metadata": {
        "colab": {
          "base_uri": "https://localhost:8080/"
        },
        "id": "M3LxtX4WLec8",
        "outputId": "5b08acd6-b631-42f3-dfa8-12cbb6f219e3"
      },
      "outputs": [
        {
          "name": "stdout",
          "output_type": "stream",
          "text": [
            "benjaminromain baranger\n",
            "hi, My name is benjamin romain baranger\n",
            "chrisjames westerman\n",
            "hi, My name is chris james westerman\n",
            "##########################################\n",
            "##################TESTS###################\n",
            "##########################################\n",
            "\n",
            "Testeando compute_name con benjamin romain baranger:\n",
            "Testeando compute_name con chris james westerman:\n"
          ]
        }
      ],
      "source": [
        "compute_name = \"benjamin\"\n",
        "name = \"benjamin\"\n",
        "print: name\n",
        "first_name = \"benjamin\"\n",
        "last_name = \"romain baranger\"\n",
        "full_name  = first_name + last_name\n",
        "print(full_name)\n",
        "sentence = f'hi, My name is {first_name} {last_name}'\n",
        "print(sentence)\n",
        "compute_name = \"chris\", \"james westerman\"\n",
        "name = \"chris\"\n",
        "print: name\n",
        "first_name = \"chris\"\n",
        "last_name = \"james westerman\"\n",
        "full_name  = first_name + last_name\n",
        "print(full_name)\n",
        "sentence = f'hi, My name is {first_name} {last_name}'\n",
        "print(sentence)\n",
        "\n",
        "\n",
        "\n",
        "# ... previous code ...\n",
        "\n",
        "# Define compute_name function\n",
        "def compute_name(first_name, middle_name, last_name):\n",
        "    return f\"{first_name} {middle_name} {last_name}\"\n",
        "\n",
        "# No modifiques el código a continuación:\n",
        "\n",
        "print(\"##########################################\")\n",
        "print(\"##################TESTS###################\")\n",
        "print(\"##########################################\\n\")\n",
        "\n",
        "import os\n",
        "print(\"Testeando compute_name con benjamin romain baranger:\")\n",
        "if compute_name('benjamin', 'romain', 'baranger') == 'benjamin romain baranger':\n",
        "    os.system(\"echo '\\e[32mCorrecto\\e[0m'\")\n",
        "else:\n",
        "\tos.system(\"echo '\\e[31mIncorrecto\\e[0m'\")\n",
        "print(\"Testeando compute_name con chris james westerman:\")\n",
        "if compute_name('chris', 'james', 'westerman') == 'chris james westerman':\n",
        "    os.system(\"echo '\\e[32mCorrecto\\e[0m'\")\n",
        "else:\n",
        "\tos.system(\"echo '\\e[31mIncorrecto\\e[0m'\")"
      ]
    },
    {
      "cell_type": "markdown",
      "source": [
        "#Lecture d0S"
      ],
      "metadata": {
        "id": "wpQZxJdVJcln"
      }
    },
    {
      "cell_type": "code",
      "execution_count": null,
      "metadata": {
        "colab": {
          "base_uri": "https://localhost:8080/"
        },
        "id": "0fwie5XIevTZ",
        "outputId": "31b18d16-e65c-4dbf-8787-71759bc0c902"
      },
      "outputs": [
        {
          "name": "stdout",
          "output_type": "stream",
          "text": [
            "##########################################\n",
            "##################TESTS###################\n",
            "##########################################\n",
            "\n",
            "Testeando sum3 con 0 0 0:\n",
            "Testeando sum3 con 1 2 3:\n",
            "Testeando sum3 con 4 5 6:\n",
            "Testeando sum3 con -1 1 0:\n"
          ]
        }
      ],
      "source": [
        "def sum3(a, b, c):\n",
        "    return a + b + c\n",
        "\n",
        "type(sum3)\n",
        "type(0+0+0)\n",
        "type(1*2*3)\n",
        "type(4+ 5+ 6)\n",
        "type(-1+-1*0)\n",
        "\n",
        "\n",
        "# No modifiques el código a continuación:\n",
        "\n",
        "print(\"##########################################\")\n",
        "print(\"##################TESTS###################\")\n",
        "print(\"##########################################\\n\")\n",
        "\n",
        "import os\n",
        "print(\"Testeando sum3 con 0 0 0:\")\n",
        "if sum3(0, 0, 0) == 0:\n",
        "    os.system(\"echo '\\e[32mCorrecto\\e[0m'\")\n",
        "else:\n",
        "\tos.system(\"echo '\\e[31mIncorrecto\\e[0m'\")\n",
        "print(\"Testeando sum3 con 1 2 3:\")\n",
        "if sum3(1, 2, 3) == 6:\n",
        "    os.system(\"echo '\\e[32mCorrecto\\e[0m'\")\n",
        "else:\n",
        "\tos.system(\"echo '\\e[31mIncorrecto\\e[0m'\")\n",
        "print(\"Testeando sum3 con 4 5 6:\")\n",
        "if sum3(4, 5, 6) == 15:\n",
        "    os.system(\"echo '\\e[32mCorrecto\\e[0m'\")\n",
        "else:\n",
        "\tos.system(\"echo '\\e[31mIncorrecto\\e[0m'\")\n",
        "print(\"Testeando sum3 con -1 1 0:\")\n",
        "if sum3(-1, 1, 0) == 0:\n",
        "    os.system(\"echo '\\e[32mCorrecto\\e[0m'\")\n",
        "else:\n",
        "\tos.system(\"echo '\\e[31mIncorrecto\\e[0m'\")"
      ]
    },
    {
      "cell_type": "markdown",
      "source": [
        "#Lecture tr3S\n"
      ],
      "metadata": {
        "id": "gJik7l3rJqBV"
      }
    },
    {
      "cell_type": "code",
      "source": [
        "# TODO: primero agregar una estructura de datos con el tipo de cambio (currency rates)\n",
        "#RATES\n",
        "# indeces:    0      1      2\n",
        "amount = [\"100_USD\", \"85_EUR\", \"200_CHF\"]\n",
        "currency = [\"USD\", \"EUR\", \"CHF\"]\n",
        "amount_converted = [True] * len(amount)\n",
        "\n",
        "# Estructura de datos con los tipos de cambio\n",
        "exchange_rates = {\n",
        "    \"USD\": {\n",
        "        \"EUR\": 0.85,\n",
        "        \"CHF\": 0.92,\n",
        "        \"GBP\": 0.73\n",
        "    },\n",
        "    \"EUR\": {\n",
        "        \"USD\": 1.18,\n",
        "        \"CHF\": 1.08,\n",
        "        \"GBP\": 0.88\n",
        "    },\n",
        "    \"CHF\": {\n",
        "        \"USD\": 1.09,\n",
        "        \"EUR\": 0.93,\n",
        "        \"GBP\": 0.81\n",
        "    },\n",
        "    \"GBP\": {\n",
        "        \"USD\": 1.37,\n",
        "        \"EUR\": 1.14,\n",
        "        \"CHF\": 1.23\n",
        "    }\n",
        "}\n",
        "\n",
        "# TODO: Implementa tu método convert a continuación:\n",
        "def convert(amount, target_currency):\n",
        "    \"\"\"returns the converted amount in the given currency\n",
        "    amount is a tuple like (100, \"EUR\")\n",
        "    currency is a string\n",
        "    \"\"\"\n",
        "    amount_value, amount_currency = amount\n",
        "    if amount_currency == target_currency:\n",
        "        return amount_value\n",
        "    if amount_currency in exchange_rates and target_currency in exchange_rates[amount_currency]:\n",
        "        rate = exchange_rates[amount_currency][target_currency]\n",
        "        return amount_value * rate\n",
        "    else:\n",
        "        return None\n",
        "\n",
        "# No modifiques el código a continuación:\n",
        "\n",
        "print(\"##########################################\")\n",
        "print(\"##################TESTS###################\")\n",
        "print(\"##########################################\\n\")\n",
        "\n",
        "import os\n",
        "print(\"Testeando conversiones con estructura correcta:\")\n",
        "\n",
        "amount = (100, \"USD\")\n",
        "if convert(amount, \"EUR\") == 85:\n",
        "    os.system(\"echo '\\e[32mCorrecto\\e[0m'\")\n",
        "else:\n",
        "    os.system(\"echo '\\e[31mIncorrecto\\e[0m'\")\n",
        "\n",
        "amount = (200, \"CHF\")\n",
        "if convert(amount, \"EUR\") == 186:\n",
        "    os.system(\"echo '\\e[32mCorrecto\\e[0m'\")\n",
        "else:\n",
        "    os.system(\"echo '\\e[31mIncorrecto\\e[0m'\")\n",
        "\n",
        "amount = (300, \"GBP\")\n",
        "if convert(amount, \"EUR\") == 342:\n",
        "    os.system(\"echo '\\e[32mCorrecto\\e[0m'\")\n",
        "else:\n",
        "    os.system(\"echo '\\e[31mIncorrecto\\e[0m'\")\n",
        "\n",
        "amount = (339, \"EUR\")\n",
        "if convert(amount, \"GBP\") == 298.32:\n",
        "    os.system(\"echo '\\e[32mCorrecto\\e[0m'\")\n",
        "else:\n",
        "    os.system(\"echo '\\e[31mIncorrecto\\e[0m'\")\n",
        "\n",
        "amount = (300, \"RMB\")\n",
        "if convert(amount, \"EUR\") == None:\n",
        "    os.system(\"echo '\\e[32mCorrecto\\e[0m'\")\n",
        "else:\n",
        "    os.system(\"echo '\\e[31mIncorrecto\\e[0m'\")\n",
        "    end\n"
      ],
      "metadata": {
        "colab": {
          "base_uri": "https://localhost:8080/"
        },
        "id": "MbsyRt-aj_VY",
        "outputId": "fe7643eb-e8c6-4a60-cf51-ef629a51a8ac"
      },
      "execution_count": 13,
      "outputs": [
        {
          "output_type": "stream",
          "name": "stdout",
          "text": [
            "##########################################\n",
            "##################TESTS###################\n",
            "##########################################\n",
            "\n",
            "Testeando conversiones con estructura correcta:\n"
          ]
        }
      ]
    },
    {
      "cell_type": "markdown",
      "source": [
        "#Lecture 4 [\"ford\"]"
      ],
      "metadata": {
        "id": "uM4StjymKDtX"
      }
    },
    {
      "cell_type": "code",
      "source": [
        "# Implementa tu método compute_name a continuación:\n",
        "#sudoku_validator = \"grid\" # This line was causing the issue\n",
        "def sudoku_validator(grid):\n",
        "    # Add your sudoku validation logic here.\n",
        "    # For the sake of example, this function will just return True for now.\n",
        "    return True\n",
        "\n",
        "grid= [[\"i\"], [\"j\"]] # Create a list of lists\n",
        "# indesex: 0  1  2  3  4 5 6 7 8 9\n",
        "list(range(3*3))\n",
        "\n",
        "# No modifiques el código a continuación:\n",
        "# ... (rest of the code remains the same)\n",
        "\n",
        "print(\"##########################################\")\n",
        "print(\"##################TESTS###################\")\n",
        "print(\"##########################################\\n\")\n",
        "\n",
        "import os\n",
        "print(\"Testeando sudoku con estructura correcta:\")\n",
        "\n",
        "grid = [\n",
        "        [7,8,4,  1,5,9,  3,2,6],\n",
        "        [5,3,9,  6,7,2,  8,4,1],\n",
        "        [6,1,2,  4,3,8,  7,5,9],\n",
        "\n",
        "        [9,2,8,  7,1,5,  4,6,3],\n",
        "        [3,5,7,  8,4,6,  1,9,2],\n",
        "        [4,6,1,  9,2,3,  5,8,7],\n",
        "\n",
        "        [8,7,6,  3,9,4,  2,1,5],\n",
        "        [2,4,3,  5,6,1,  9,7,8],\n",
        "        [1,9,5,  2,8,7,  6,3,4]\n",
        "    ]\n",
        "if sudoku_validator(grid): # Now this line calls the function correctly\n",
        "    os.system(\"echo '\\e[32mCorrecto\\e[0m'\")\n",
        "else:\n",
        "    os.system(\"echo '\\e[31mIncorrecto\\e[0m'\")\n",
        "\n",
        "\n",
        "# ... (The rest of the code remains the same)"
      ],
      "metadata": {
        "colab": {
          "base_uri": "https://localhost:8080/"
        },
        "id": "lvf3p9E3psSs",
        "outputId": "5588aaaf-96f5-4640-9137-87c575ba5b97"
      },
      "execution_count": 8,
      "outputs": [
        {
          "output_type": "stream",
          "name": "stdout",
          "text": [
            "##########################################\n",
            "##################TESTS###################\n",
            "##########################################\n",
            "\n",
            "Testeando sudoku con estructura correcta:\n"
          ]
        }
      ]
    },
    {
      "cell_type": "code",
      "source": [],
      "metadata": {
        "id": "pHfRhvD_pvj0"
      },
      "execution_count": null,
      "outputs": []
    }
  ],
  "metadata": {
    "colab": {
      "provenance": [],
      "authorship_tag": "ABX9TyPE1XDbXvkviMqZTpNp7Pnl",
      "include_colab_link": true
    },
    "kernelspec": {
      "display_name": "Python 3",
      "name": "python3"
    },
    "language_info": {
      "name": "python"
    }
  },
  "nbformat": 4,
  "nbformat_minor": 0
}