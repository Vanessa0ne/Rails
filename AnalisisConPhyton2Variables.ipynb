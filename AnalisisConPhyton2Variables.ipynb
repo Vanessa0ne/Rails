{
  "nbformat": 4,
  "nbformat_minor": 0,
  "metadata": {
    "colab": {
      "provenance": [],
      "authorship_tag": "ABX9TyO1SLVZrC3AkJ6yDk91Fouh",
      "include_colab_link": true
    },
    "kernelspec": {
      "name": "python3",
      "display_name": "Python 3"
    },
    "language_info": {
      "name": "python"
    }
  },
  "cells": [
    {
      "cell_type": "markdown",
      "metadata": {
        "id": "view-in-github",
        "colab_type": "text"
      },
      "source": [
        "<a href=\"https://colab.research.google.com/github/Vanessa0ne/Rails/blob/master/AnalisisConPhyton2Variables.ipynb\" target=\"_parent\"><img src=\"https://colab.research.google.com/assets/colab-badge.svg\" alt=\"Open In Colab\"/></a>"
      ]
    },
    {
      "cell_type": "markdown",
      "source": [
        "##Variables.\n",
        "## Para asignar una variables   **=**  \n",
        "\n",
        "asignar solo 2 veces el nombre a una variables!"
      ],
      "metadata": {
        "id": "1MALCK-FLv3v"
      }
    },
    {
      "cell_type": "code",
      "execution_count": null,
      "metadata": {
        "id": "lUMwgkC8LXJF"
      },
      "outputs": [],
      "source": [
        "name = \"vanessa\"\n",
        "print: name"
      ]
    },
    {
      "cell_type": "code",
      "source": [
        "print(name)"
      ],
      "metadata": {
        "id": "nDGFIXwWMHTk",
        "colab": {
          "base_uri": "https://localhost:8080/"
        },
        "outputId": "c8c612c5-c4ed-4733-d31b-e3f532d93d70"
      },
      "execution_count": null,
      "outputs": [
        {
          "output_type": "stream",
          "name": "stdout",
          "text": [
            "vanessa\n"
          ]
        }
      ]
    },
    {
      "cell_type": "code",
      "source": [
        "first_name = \"vanessa\"\n",
        "last_name = \"Sagredo Vadivia\""
      ],
      "metadata": {
        "id": "6hgnlSqXLzIi"
      },
      "execution_count": 8,
      "outputs": []
    },
    {
      "cell_type": "code",
      "source": [
        "full_name  = first_name + last_name\n",
        "print(full_name)"
      ],
      "metadata": {
        "colab": {
          "base_uri": "https://localhost:8080/"
        },
        "id": "RI1RO66bNsZ5",
        "outputId": "e81374b4-f729-4fa4-e85c-4424b0596700"
      },
      "execution_count": 9,
      "outputs": [
        {
          "output_type": "stream",
          "name": "stdout",
          "text": [
            "vanessaSagredo Vadivia\n"
          ]
        }
      ]
    },
    {
      "cell_type": "markdown",
      "source": [
        "##String Formatting_Interpolation.\n",
        "\n",
        "\n"
      ],
      "metadata": {
        "id": "7X9SFC4pOjU7"
      }
    },
    {
      "cell_type": "code",
      "source": [
        "sentence = f'hi, My name is {first_name} {last_name}'\n",
        "print(sentence)"
      ],
      "metadata": {
        "colab": {
          "base_uri": "https://localhost:8080/"
        },
        "id": "N8EGjKSL5Cvm",
        "outputId": "2e727c8d-a0ad-464b-f804-949a46c790f5"
      },
      "execution_count": 10,
      "outputs": [
        {
          "output_type": "stream",
          "name": "stdout",
          "text": [
            "hi, My name is vanessa Sagredo Vadivia\n"
          ]
        }
      ]
    },
    {
      "cell_type": "markdown",
      "source": [
        "#List Operations"
      ],
      "metadata": {
        "id": "ZvO0RAWI63vp"
      }
    },
    {
      "cell_type": "code",
      "source": [
        "# indesex: 0  1  2  3\n",
        "beatles = [\"john\", \"paul\", \"ringo\", \"george\"]"
      ],
      "metadata": {
        "id": "ECT7mM3f7Ec6"
      },
      "execution_count": 3,
      "outputs": []
    },
    {
      "cell_type": "code",
      "source": [
        "beatles[0] # read"
      ],
      "metadata": {
        "colab": {
          "base_uri": "https://localhost:8080/",
          "height": 36
        },
        "id": "pj3b7LKl9nir",
        "outputId": "046a54c0-8d4f-427a-e198-1a5e7a987a39"
      },
      "execution_count": 4,
      "outputs": [
        {
          "output_type": "execute_result",
          "data": {
            "text/plain": [
              "'john'"
            ],
            "application/vnd.google.colaboratory.intrinsic+json": {
              "type": "string"
            }
          },
          "metadata": {},
          "execution_count": 4
        }
      ]
    },
    {
      "cell_type": "code",
      "source": [
        "beatles.append('george') # create (in place)\n",
        "print(beatles)"
      ],
      "metadata": {
        "colab": {
          "base_uri": "https://localhost:8080/"
        },
        "id": "UteuZfc297VD",
        "outputId": "14f2f4df-d878-47de-a868-516bd5b94f76"
      },
      "execution_count": 5,
      "outputs": [
        {
          "output_type": "stream",
          "name": "stdout",
          "text": [
            "['john', 'paul', 'ringo', 'george', 'george']\n"
          ]
        }
      ]
    },
    {
      "cell_type": "code",
      "source": [
        "beatles[1] = \"paul\" #  update (in place)\n",
        "print(beatles)"
      ],
      "metadata": {
        "colab": {
          "base_uri": "https://localhost:8080/"
        },
        "id": "I5yfcVCp-mNh",
        "outputId": "f4c5f581-96fd-4f74-8dee-60c796f79f89"
      },
      "execution_count": 6,
      "outputs": [
        {
          "output_type": "stream",
          "name": "stdout",
          "text": [
            "['john', 'paul', 'ringo', 'george', 'george']\n"
          ]
        }
      ]
    },
    {
      "cell_type": "markdown",
      "source": [
        "#Other List Operations"
      ],
      "metadata": {
        "id": "arDGc4JpABTx"
      }
    },
    {
      "cell_type": "code",
      "source": [
        "beatles"
      ],
      "metadata": {
        "colab": {
          "base_uri": "https://localhost:8080/"
        },
        "id": "8TMhNZGmAO8Y",
        "outputId": "08c8e3a1-c375-4877-b88a-e71450c54131"
      },
      "execution_count": 7,
      "outputs": [
        {
          "output_type": "execute_result",
          "data": {
            "text/plain": [
              "['john', 'paul', 'ringo', 'george', 'george']"
            ]
          },
          "metadata": {},
          "execution_count": 7
        }
      ]
    },
    {
      "cell_type": "code",
      "source": [
        "beatles[1:3] # slise of 1 to 3 (excluded)"
      ],
      "metadata": {
        "colab": {
          "base_uri": "https://localhost:8080/"
        },
        "id": "f4Oa0z4ZAk2X",
        "outputId": "3336aa9a-55b0-4bfe-e340-f8e8070b4ee6"
      },
      "execution_count": 8,
      "outputs": [
        {
          "output_type": "execute_result",
          "data": {
            "text/plain": [
              "['paul', 'ringo']"
            ]
          },
          "metadata": {},
          "execution_count": 8
        }
      ]
    },
    {
      "cell_type": "code",
      "source": [
        "del beatles[1] # delete (in place)\n",
        "print(beatles)"
      ],
      "metadata": {
        "colab": {
          "base_uri": "https://localhost:8080/"
        },
        "id": "SrgUqBfUBwe9",
        "outputId": "857fd62a-df8f-4291-db8a-74934e4950af"
      },
      "execution_count": 9,
      "outputs": [
        {
          "output_type": "stream",
          "name": "stdout",
          "text": [
            "['john', 'ringo', 'george', 'george']\n"
          ]
        }
      ]
    },
    {
      "cell_type": "markdown",
      "source": [
        "#Dict Operations"
      ],
      "metadata": {
        "id": "tDZSu-PdHB5f"
      }
    },
    {
      "cell_type": "code",
      "source": [
        "instruments = {\"john\" : \"guitar\", \"paul\" : \"bass\"} # keys are  'str',  values to"
      ],
      "metadata": {
        "id": "OlnzeB8iHAxX"
      },
      "execution_count": 11,
      "outputs": []
    },
    {
      "cell_type": "code",
      "source": [
        "instruments[\"john\"] # read"
      ],
      "metadata": {
        "colab": {
          "base_uri": "https://localhost:8080/",
          "height": 36
        },
        "id": "JkchkTJ1GU-h",
        "outputId": "ec514bae-469f-43ab-f376-bb5668db8e22"
      },
      "execution_count": 12,
      "outputs": [
        {
          "output_type": "execute_result",
          "data": {
            "text/plain": [
              "'guitar'"
            ],
            "application/vnd.google.colaboratory.intrinsic+json": {
              "type": "string"
            }
          },
          "metadata": {},
          "execution_count": 12
        }
      ]
    },
    {
      "cell_type": "code",
      "source": [
        "instruments['ringo'] = \"drums\" # create / update\n",
        "print(instruments)"
      ],
      "metadata": {
        "colab": {
          "base_uri": "https://localhost:8080/"
        },
        "id": "AR9BJgu_KkYb",
        "outputId": "d9cda2f2-140b-49a5-ae94-4a00b2fda103"
      },
      "execution_count": 13,
      "outputs": [
        {
          "output_type": "stream",
          "name": "stdout",
          "text": [
            "{'john': 'guitar', 'paul': 'bass', 'ringo': 'drums'}\n"
          ]
        }
      ]
    },
    {
      "cell_type": "code",
      "source": [
        "del instruments['john']\n",
        "instruments"
      ],
      "metadata": {
        "colab": {
          "base_uri": "https://localhost:8080/"
        },
        "id": "4eJbOKa9PY0X",
        "outputId": "db1dcec1-5838-4535-b299-c5419332ced7"
      },
      "execution_count": 14,
      "outputs": [
        {
          "output_type": "execute_result",
          "data": {
            "text/plain": [
              "{'paul': 'bass', 'ringo': 'drums'}"
            ]
          },
          "metadata": {},
          "execution_count": 14
        }
      ]
    },
    {
      "cell_type": "markdown",
      "source": [
        "#Other Dict Operation"
      ],
      "metadata": {
        "id": "E4xzlLVe1NKD"
      }
    },
    {
      "cell_type": "code",
      "source": [
        "instruments"
      ],
      "metadata": {
        "colab": {
          "base_uri": "https://localhost:8080/"
        },
        "id": "YS6llidC1yg1",
        "outputId": "289a9f71-5cb2-4675-fee3-ab7fe1a8ab9b"
      },
      "execution_count": 15,
      "outputs": [
        {
          "output_type": "execute_result",
          "data": {
            "text/plain": [
              "{'paul': 'bass', 'ringo': 'drums'}"
            ]
          },
          "metadata": {},
          "execution_count": 15
        }
      ]
    },
    {
      "cell_type": "code",
      "source": [
        "instruments = ('john')"
      ],
      "metadata": {
        "id": "RVXjThBc2HTy"
      },
      "execution_count": 17,
      "outputs": []
    },
    {
      "cell_type": "code",
      "source": [
        "instruments"
      ],
      "metadata": {
        "colab": {
          "base_uri": "https://localhost:8080/",
          "height": 36
        },
        "id": "J3iSesJr4p4G",
        "outputId": "2ceb1e18-f0b0-4855-c6fe-244a65ed842f"
      },
      "execution_count": 18,
      "outputs": [
        {
          "output_type": "execute_result",
          "data": {
            "text/plain": [
              "'john'"
            ],
            "application/vnd.google.colaboratory.intrinsic+json": {
              "type": "string"
            }
          },
          "metadata": {},
          "execution_count": 18
        }
      ]
    },
    {
      "cell_type": "markdown",
      "source": [
        "#Control Flow"
      ],
      "metadata": {
        "id": "eiDSrQ_v5XEO"
      }
    },
    {
      "cell_type": "code",
      "source": [],
      "metadata": {
        "id": "VQBAaD2O5QHB"
      },
      "execution_count": null,
      "outputs": []
    },
    {
      "cell_type": "code",
      "source": [],
      "metadata": {
        "id": "YcySq3Sa44AH"
      },
      "execution_count": null,
      "outputs": []
    }
  ]
}