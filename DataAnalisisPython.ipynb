{
  "cells": [
    {
      "cell_type": "markdown",
      "metadata": {
        "id": "view-in-github",
        "colab_type": "text"
      },
      "source": [
        "<a href=\"https://colab.research.google.com/github/Vanessa0ne/Rails/blob/master/DataAnalisisPython.ipynb\" target=\"_parent\"><img src=\"https://colab.research.google.com/assets/colab-badge.svg\" alt=\"Open In Colab\"/></a>"
      ]
    },
    {
      "cell_type": "markdown",
      "metadata": {
        "id": "-D--SqiGG3Xs"
      },
      "source": [
        "#  __Data Analisis con Python.__\n",
        "\n"
      ]
    },
    {
      "cell_type": "code",
      "execution_count": null,
      "metadata": {
        "id": "yA3Hlzk7Gyuk"
      },
      "outputs": [],
      "source": []
    },
    {
      "cell_type": "markdown",
      "metadata": {
        "id": "MPBocf8pHo3F"
      },
      "source": [
        "## Numeric Types"
      ]
    },
    {
      "cell_type": "code",
      "execution_count": null,
      "metadata": {
        "colab": {
          "base_uri": "https://localhost:8080/"
        },
        "id": "sFRzUSuTIEzl",
        "outputId": "3cea9cde-b98e-4432-8d62-1deb2b7d6cc5"
      },
      "outputs": [
        {
          "data": {
            "text/plain": [
              "int"
            ]
          },
          "execution_count": 4,
          "metadata": {},
          "output_type": "execute_result"
        }
      ],
      "source": [
        "type(42)"
      ]
    },
    {
      "cell_type": "code",
      "execution_count": null,
      "metadata": {
        "colab": {
          "base_uri": "https://localhost:8080/"
        },
        "id": "us1tVyqCIJP2",
        "outputId": "c6262a12-0128-46d6-8605-c22c958905e1"
      },
      "outputs": [
        {
          "data": {
            "text/plain": [
              "float"
            ]
          },
          "execution_count": 5,
          "metadata": {},
          "output_type": "execute_result"
        }
      ],
      "source": [
        "type (3.14)"
      ]
    },
    {
      "cell_type": "code",
      "execution_count": null,
      "metadata": {
        "colab": {
          "base_uri": "https://localhost:8080/"
        },
        "id": "ggptvAMpIwWm",
        "outputId": "66bd69bc-7125-4e66-fc6c-493e7a0c3e5e"
      },
      "outputs": [
        {
          "data": {
            "text/plain": [
              "float"
            ]
          },
          "execution_count": 7,
          "metadata": {},
          "output_type": "execute_result"
        }
      ],
      "source": [
        "type(4 + 9.5)"
      ]
    },
    {
      "cell_type": "code",
      "execution_count": null,
      "metadata": {
        "colab": {
          "base_uri": "https://localhost:8080/"
        },
        "id": "MovdgQZ4I4LQ",
        "outputId": "1590ca64-357b-4a29-c47b-a0a9afcddd7e"
      },
      "outputs": [
        {
          "data": {
            "text/plain": [
              "5"
            ]
          },
          "execution_count": 9,
          "metadata": {},
          "output_type": "execute_result"
        }
      ],
      "source": [
        "abs(-5)"
      ]
    },
    {
      "cell_type": "code",
      "execution_count": null,
      "metadata": {
        "id": "pdqfJZVcJOru"
      },
      "outputs": [],
      "source": []
    },
    {
      "cell_type": "markdown",
      "metadata": {
        "id": "i2KOfnfXJadD"
      },
      "source": [
        "__Booleans__"
      ]
    },
    {
      "cell_type": "code",
      "execution_count": null,
      "metadata": {
        "colab": {
          "base_uri": "https://localhost:8080/"
        },
        "id": "qasac3r6KdTm",
        "outputId": "04f40100-a496-4ca2-921a-4f67a1ceed6e"
      },
      "outputs": [
        {
          "data": {
            "text/plain": [
              "bool"
            ]
          },
          "execution_count": 13,
          "metadata": {},
          "output_type": "execute_result"
        }
      ],
      "source": [
        "type(True)"
      ]
    },
    {
      "cell_type": "code",
      "execution_count": null,
      "metadata": {
        "colab": {
          "base_uri": "https://localhost:8080/"
        },
        "id": "6j4eQV7tKpdt",
        "outputId": "d28f9ed5-c5fc-42d2-c514-d112a56cf682"
      },
      "outputs": [
        {
          "data": {
            "text/plain": [
              "3"
            ]
          },
          "execution_count": 14,
          "metadata": {},
          "output_type": "execute_result"
        }
      ],
      "source": [
        "True + True + True"
      ]
    },
    {
      "cell_type": "code",
      "execution_count": null,
      "metadata": {
        "colab": {
          "base_uri": "https://localhost:8080/"
        },
        "id": "eLKVt3txK4au",
        "outputId": "48666826-f5a0-4971-8244-2394df636b78"
      },
      "outputs": [
        {
          "data": {
            "text/plain": [
              "False"
            ]
          },
          "execution_count": 15,
          "metadata": {},
          "output_type": "execute_result"
        }
      ],
      "source": [
        "True and False\n"
      ]
    },
    {
      "cell_type": "code",
      "execution_count": null,
      "metadata": {
        "colab": {
          "base_uri": "https://localhost:8080/"
        },
        "id": "htVB3et1K_NM",
        "outputId": "3f25d339-7f8b-4831-9026-62c44c09beb5"
      },
      "outputs": [
        {
          "data": {
            "text/plain": [
              "True"
            ]
          },
          "execution_count": 16,
          "metadata": {},
          "output_type": "execute_result"
        }
      ],
      "source": [
        "True or False"
      ]
    },
    {
      "cell_type": "code",
      "execution_count": null,
      "metadata": {
        "colab": {
          "base_uri": "https://localhost:8080/"
        },
        "id": "CXrJOhw_LO2C",
        "outputId": "435c9c82-763c-46d3-dd7d-e2eca3b6f6f8"
      },
      "outputs": [
        {
          "data": {
            "text/plain": [
              "True"
            ]
          },
          "execution_count": 18,
          "metadata": {},
          "output_type": "execute_result"
        }
      ],
      "source": [
        "not False"
      ]
    },
    {
      "cell_type": "markdown",
      "metadata": {
        "id": "iOAbtTbgLpF5"
      },
      "source": [
        "# **__Comparison__**"
      ]
    },
    {
      "cell_type": "code",
      "execution_count": null,
      "metadata": {
        "colab": {
          "base_uri": "https://localhost:8080/"
        },
        "id": "Sl7h6P4qLZ1N",
        "outputId": "835bb6b2-59d1-4a39-8528-bdc29b11b843"
      },
      "outputs": [
        {
          "data": {
            "text/plain": [
              "False"
            ]
          },
          "execution_count": 20,
          "metadata": {},
          "output_type": "execute_result"
        }
      ],
      "source": [
        "5 < 3"
      ]
    },
    {
      "cell_type": "code",
      "execution_count": null,
      "metadata": {
        "colab": {
          "base_uri": "https://localhost:8080/"
        },
        "id": "ZaUb5oFAMQvq",
        "outputId": "056f5c98-c07d-4d12-cfcd-20f318c2bd68"
      },
      "outputs": [
        {
          "data": {
            "text/plain": [
              "True"
            ]
          },
          "execution_count": 22,
          "metadata": {},
          "output_type": "execute_result"
        }
      ],
      "source": [
        "4 <= 4"
      ]
    },
    {
      "cell_type": "code",
      "execution_count": null,
      "metadata": {
        "colab": {
          "base_uri": "https://localhost:8080/"
        },
        "id": "d_bFXatLS5nQ",
        "outputId": "4a91f207-1ccc-46d6-b58a-2b6c6e69d47e"
      },
      "outputs": [
        {
          "data": {
            "text/plain": [
              "True"
            ]
          },
          "execution_count": 23,
          "metadata": {},
          "output_type": "execute_result"
        }
      ],
      "source": [
        "45 == 45"
      ]
    },
    {
      "cell_type": "code",
      "execution_count": null,
      "metadata": {
        "colab": {
          "base_uri": "https://localhost:8080/"
        },
        "id": "nuwPe6LBXzh8",
        "outputId": "ade1c3c0-189a-45cf-96ee-3a3be99be559"
      },
      "outputs": [
        {
          "data": {
            "text/plain": [
              "False"
            ]
          },
          "execution_count": 32,
          "metadata": {},
          "output_type": "execute_result"
        }
      ],
      "source": [
        "\"boris\" == \"seb\""
      ]
    },
    {
      "cell_type": "code",
      "execution_count": null,
      "metadata": {
        "colab": {
          "base_uri": "https://localhost:8080/"
        },
        "id": "Hjb5nqETYUib",
        "outputId": "a6b0eb37-4cf0-4e41-f858-988f2a633a8a"
      },
      "outputs": [
        {
          "data": {
            "text/plain": [
              "True"
            ]
          },
          "execution_count": 33,
          "metadata": {},
          "output_type": "execute_result"
        }
      ],
      "source": [
        "\"boris\" != \"seb\""
      ]
    },
    {
      "cell_type": "markdown",
      "metadata": {
        "id": "Emlui2gKZveh"
      },
      "source": [
        "\n",
        "# **__Strings__**"
      ]
    },
    {
      "cell_type": "code",
      "execution_count": null,
      "metadata": {
        "colab": {
          "base_uri": "https://localhost:8080/",
          "height": 36
        },
        "id": "cD1Qg93sZdqE",
        "outputId": "1f305b87-89c6-4c28-b293-b824e72a82cb"
      },
      "outputs": [
        {
          "data": {
            "application/vnd.google.colaboratory.intrinsic+json": {
              "type": "string"
            },
            "text/plain": [
              "'boris'"
            ]
          },
          "execution_count": 34,
          "metadata": {},
          "output_type": "execute_result"
        }
      ],
      "source": [
        "\"boris\"\n"
      ]
    },
    {
      "cell_type": "code",
      "execution_count": null,
      "metadata": {
        "colab": {
          "base_uri": "https://localhost:8080/",
          "height": 36
        },
        "id": "_LrTgGlWaQWo",
        "outputId": "fa11f929-b10e-4109-c0c9-f0966f342dba"
      },
      "outputs": [
        {
          "data": {
            "application/vnd.google.colaboratory.intrinsic+json": {
              "type": "string"
            },
            "text/plain": [
              "'boris'"
            ]
          },
          "execution_count": 35,
          "metadata": {},
          "output_type": "execute_result"
        }
      ],
      "source": [
        "'boris'"
      ]
    },
    {
      "cell_type": "code",
      "execution_count": null,
      "metadata": {
        "colab": {
          "base_uri": "https://localhost:8080/",
          "height": 36
        },
        "id": "JB4NjTY8ahBg",
        "outputId": "eec9a2a6-a003-4d04-9d8a-420b17113947"
      },
      "outputs": [
        {
          "data": {
            "application/vnd.google.colaboratory.intrinsic+json": {
              "type": "string"
            },
            "text/plain": [
              "'Boris'"
            ]
          },
          "execution_count": 36,
          "metadata": {},
          "output_type": "execute_result"
        }
      ],
      "source": [
        "\"boris\".capitalize()"
      ]
    },
    {
      "cell_type": "code",
      "execution_count": null,
      "metadata": {
        "colab": {
          "base_uri": "https://localhost:8080/",
          "height": 36
        },
        "id": "UKoa2MnQa3qE",
        "outputId": "4fe83dd1-80d5-4277-e5fb-7e8f77c07966"
      },
      "outputs": [
        {
          "data": {
            "application/vnd.google.colaboratory.intrinsic+json": {
              "type": "string"
            },
            "text/plain": [
              "'boris'"
            ]
          },
          "execution_count": 37,
          "metadata": {},
          "output_type": "execute_result"
        }
      ],
      "source": [
        "\"    boris\".strip()"
      ]
    },
    {
      "cell_type": "code",
      "execution_count": null,
      "metadata": {
        "colab": {
          "base_uri": "https://localhost:8080/"
        },
        "id": "wE1kGspabJV-",
        "outputId": "8d05daf2-4f19-4fcf-a8b0-120f04ae3e5c"
      },
      "outputs": [
        {
          "data": {
            "text/plain": [
              "int"
            ]
          },
          "execution_count": 41,
          "metadata": {},
          "output_type": "execute_result"
        }
      ],
      "source": [
        "type(int(\"42\"))"
      ]
    },
    {
      "cell_type": "markdown",
      "metadata": {
        "id": "Pt6dJnNScA00"
      },
      "source": [
        "##List."
      ]
    },
    {
      "cell_type": "code",
      "execution_count": null,
      "metadata": {
        "colab": {
          "base_uri": "https://localhost:8080/"
        },
        "id": "8hdpX0VqbrnJ",
        "outputId": "a78041ee-7099-4221-c173-38023df72280"
      },
      "outputs": [
        {
          "data": {
            "text/plain": [
              "['apple', 'cherries', 'banana']"
            ]
          },
          "execution_count": 42,
          "metadata": {},
          "output_type": "execute_result"
        }
      ],
      "source": [
        "[\"apple\", \"cherries\", \"banana\" ]"
      ]
    },
    {
      "cell_type": "code",
      "execution_count": null,
      "metadata": {
        "colab": {
          "base_uri": "https://localhost:8080/"
        },
        "id": "PRYH8RM7crrB",
        "outputId": "59b806a6-4b6f-494c-8530-3fb3ec131cf2"
      },
      "outputs": [
        {
          "data": {
            "text/plain": [
              "3"
            ]
          },
          "execution_count": 43,
          "metadata": {},
          "output_type": "execute_result"
        }
      ],
      "source": [
        "len([\"apple\", \"cherries\", \"banana\" ])"
      ]
    },
    {
      "cell_type": "code",
      "execution_count": null,
      "metadata": {
        "colab": {
          "base_uri": "https://localhost:8080/"
        },
        "id": "318bcdRBc9Ys",
        "outputId": "bfac9cd7-e4df-4ea4-c1b7-6659d9a58a84"
      },
      "outputs": [
        {
          "data": {
            "text/plain": [
              "True"
            ]
          },
          "execution_count": 45,
          "metadata": {},
          "output_type": "execute_result"
        }
      ],
      "source": [
        "\"banana\" in [\"apple\", \"cherries\", \"banana\" ]"
      ]
    },
    {
      "cell_type": "markdown",
      "metadata": {
        "id": "nTv9xmcadWgs"
      },
      "source": [
        "##Mapping Type"
      ]
    },
    {
      "cell_type": "code",
      "execution_count": null,
      "metadata": {
        "colab": {
          "base_uri": "https://localhost:8080/"
        },
        "id": "GnL2M2IieSfm",
        "outputId": "6cadb2be-269c-4ae8-8238-74653fc1859e"
      },
      "outputs": [
        {
          "data": {
            "text/plain": [
              "{'city': 'paris', 'population': 2141000}"
            ]
          },
          "execution_count": 46,
          "metadata": {},
          "output_type": "execute_result"
        }
      ],
      "source": [
        "{\"city\" : \"paris\", \"population\" :2141000}"
      ]
    },
    {
      "cell_type": "code",
      "execution_count": null,
      "metadata": {
        "colab": {
          "base_uri": "https://localhost:8080/"
        },
        "id": "0j80fNusfVH0",
        "outputId": "436d2ac4-84a3-4ff8-9c8c-a391122c6bcf"
      },
      "outputs": [
        {
          "data": {
            "text/plain": [
              "2"
            ]
          },
          "execution_count": 47,
          "metadata": {},
          "output_type": "execute_result"
        }
      ],
      "source": [
        "len( {\"city\" : \"paris\", \"population\" :2141000} )"
      ]
    },
    {
      "cell_type": "code",
      "execution_count": null,
      "metadata": {
        "colab": {
          "base_uri": "https://localhost:8080/"
        },
        "id": "rXOgqIDsfzOx",
        "outputId": "927f32a8-5c87-4976-f438-1a7eaa72a992"
      },
      "outputs": [
        {
          "data": {
            "text/plain": [
              "True"
            ]
          },
          "execution_count": 48,
          "metadata": {},
          "output_type": "execute_result"
        }
      ],
      "source": [
        "\"city\" in {\"city\" : \"paris\", \"population\" :2141000}"
      ]
    },
    {
      "cell_type": "code",
      "execution_count": null,
      "metadata": {
        "colab": {
          "base_uri": "https://localhost:8080/"
        },
        "id": "OMGsJsBqgQa6",
        "outputId": "20025d2a-af7f-43f2-97ff-219f12666812"
      },
      "outputs": [
        {
          "data": {
            "text/plain": [
              "False"
            ]
          },
          "execution_count": 49,
          "metadata": {},
          "output_type": "execute_result"
        }
      ],
      "source": [
        "\"paris\" \"city\" in {\"city\" : \"paris\", \"population\" :2141000}"
      ]
    },
    {
      "cell_type": "markdown",
      "metadata": {
        "id": "jamZqyjGgb3b"
      },
      "source": [
        "##Variables."
      ]
    },
    {
      "cell_type": "code",
      "execution_count": null,
      "metadata": {
        "colab": {
          "base_uri": "https://localhost:8080/"
        },
        "id": "jPTIOE41gzqL",
        "outputId": "4c56bd7d-2da2-4862-c0e8-76f0cd345ad9"
      },
      "outputs": [
        {
          "name": "stdout",
          "output_type": "stream",
          "text": [
            "jhon\n"
          ]
        }
      ],
      "source": [
        "name = \"jhon\"\n",
        "print(name)"
      ]
    },
    {
      "cell_type": "code",
      "execution_count": null,
      "metadata": {
        "colab": {
          "base_uri": "https://localhost:8080/",
          "height": 36
        },
        "id": "8-Njdx3KgzIu",
        "outputId": "8318398e-cf6a-4fc1-f218-48fd0482a40b"
      },
      "outputs": [
        {
          "data": {
            "application/vnd.google.colaboratory.intrinsic+json": {
              "type": "string"
            },
            "text/plain": [
              "'jhon'"
            ]
          },
          "execution_count": 52,
          "metadata": {},
          "output_type": "execute_result"
        }
      ],
      "source": [
        "name"
      ]
    },
    {
      "cell_type": "code",
      "execution_count": null,
      "metadata": {
        "id": "fg-BxOubhN3O"
      },
      "outputs": [],
      "source": [
        "name = \"paul\""
      ]
    },
    {
      "cell_type": "code",
      "execution_count": null,
      "metadata": {
        "colab": {
          "base_uri": "https://localhost:8080/",
          "height": 36
        },
        "id": "Yr3qpAKuhW8G",
        "outputId": "a164dec4-b35d-4043-ad74-5d1a638535ad"
      },
      "outputs": [
        {
          "data": {
            "application/vnd.google.colaboratory.intrinsic+json": {
              "type": "string"
            },
            "text/plain": [
              "'paul'"
            ]
          },
          "execution_count": 54,
          "metadata": {},
          "output_type": "execute_result"
        }
      ],
      "source": [
        "name"
      ]
    },
    {
      "cell_type": "code",
      "execution_count": null,
      "metadata": {
        "id": "86M673KHhfqm"
      },
      "outputs": [],
      "source": [
        "\n",
        "first_name = \"jhon\"\n",
        "last_name = \"lennon\"\n"
      ]
    },
    {
      "cell_type": "code",
      "execution_count": null,
      "metadata": {
        "colab": {
          "base_uri": "https://localhost:8080/"
        },
        "id": "NehqsGVFh56a",
        "outputId": "2ae6f970-a678-46e0-82c6-75a11bf895e4"
      },
      "outputs": [
        {
          "name": "stdout",
          "output_type": "stream",
          "text": [
            "jhonlennon\n"
          ]
        }
      ],
      "source": [
        "full_name = first_name + last_name\n",
        "print(full_name)"
      ]
    },
    {
      "cell_type": "markdown",
      "metadata": {
        "id": "UiigPL0Ni_Kr"
      },
      "source": [
        "##String Formatting."
      ]
    },
    {
      "cell_type": "code",
      "execution_count": null,
      "metadata": {
        "colab": {
          "base_uri": "https://localhost:8080/",
          "height": 36
        },
        "id": "yRUcvr9gjJyn",
        "outputId": "299d9c85-0bf7-4d39-dd8b-3f2034a8c490"
      },
      "outputs": [
        {
          "data": {
            "application/vnd.google.colaboratory.intrinsic+json": {
              "type": "string"
            },
            "text/plain": [
              "'my name is jhon lennon'"
            ]
          },
          "execution_count": 61,
          "metadata": {},
          "output_type": "execute_result"
        }
      ],
      "source": [
        "sentence = f\"my name is {first_name} {last_name}\"\n",
        "sentence"
      ]
    },
    {
      "cell_type": "markdown",
      "metadata": {
        "id": "4qpDYU8EkJIw"
      },
      "source": [
        "##List Operations: Las Operaciones Comienzan desde 0."
      ]
    },
    {
      "cell_type": "code",
      "execution_count": null,
      "metadata": {
        "id": "3QPjCqEWkIxC"
      },
      "outputs": [],
      "source": [
        "beatles = [\"jhon\", \"paul\", \"ringo\"]"
      ]
    },
    {
      "cell_type": "code",
      "execution_count": null,
      "metadata": {
        "colab": {
          "base_uri": "https://localhost:8080/",
          "height": 36
        },
        "id": "6o9JruhRksI2",
        "outputId": "d50c1f8d-174f-4157-f646-db09a7472e27"
      },
      "outputs": [
        {
          "data": {
            "application/vnd.google.colaboratory.intrinsic+json": {
              "type": "string"
            },
            "text/plain": [
              "'jhon'"
            ]
          },
          "execution_count": 73,
          "metadata": {},
          "output_type": "execute_result"
        }
      ],
      "source": [
        "beatles[0]"
      ]
    },
    {
      "cell_type": "code",
      "execution_count": null,
      "metadata": {
        "colab": {
          "base_uri": "https://localhost:8080/",
          "height": 36
        },
        "id": "Fs1KdaLul041",
        "outputId": "3f2e6368-7e2e-42ec-9cc2-59df96c6d96d"
      },
      "outputs": [
        {
          "data": {
            "application/vnd.google.colaboratory.intrinsic+json": {
              "type": "string"
            },
            "text/plain": [
              "'paul'"
            ]
          },
          "execution_count": 74,
          "metadata": {},
          "output_type": "execute_result"
        }
      ],
      "source": [
        "beatles[1]"
      ]
    },
    {
      "cell_type": "code",
      "execution_count": null,
      "metadata": {
        "colab": {
          "base_uri": "https://localhost:8080/",
          "height": 36
        },
        "id": "5VTOB2bYmhYw",
        "outputId": "116ed6aa-b529-493c-9413-a86b7704e1e5"
      },
      "outputs": [
        {
          "data": {
            "application/vnd.google.colaboratory.intrinsic+json": {
              "type": "string"
            },
            "text/plain": [
              "'ringo'"
            ]
          },
          "execution_count": 75,
          "metadata": {},
          "output_type": "execute_result"
        }
      ],
      "source": [
        "beatles[2]"
      ]
    },
    {
      "cell_type": "code",
      "execution_count": null,
      "metadata": {
        "id": "WmtWtHIRm1yH"
      },
      "outputs": [],
      "source": [
        "beatles.append(\"george\")\n"
      ]
    },
    {
      "cell_type": "code",
      "execution_count": null,
      "metadata": {
        "colab": {
          "base_uri": "https://localhost:8080/"
        },
        "id": "2WjBTEzvnTTs",
        "outputId": "c24ecebe-5919-44fd-eb3f-e941b22fd255"
      },
      "outputs": [
        {
          "data": {
            "text/plain": [
              "['jhon', 'paul', 'ringo', 'george']"
            ]
          },
          "execution_count": 77,
          "metadata": {},
          "output_type": "execute_result"
        }
      ],
      "source": [
        "beatles"
      ]
    },
    {
      "cell_type": "code",
      "execution_count": null,
      "metadata": {
        "id": "hndn0oxkncrl"
      },
      "outputs": [],
      "source": [
        "beatles[1] = \"paul\""
      ]
    },
    {
      "cell_type": "code",
      "execution_count": null,
      "metadata": {
        "colab": {
          "base_uri": "https://localhost:8080/"
        },
        "id": "0jBJm6PwnxbS",
        "outputId": "1db67e6e-d643-4948-8942-99e5a42c3f0c"
      },
      "outputs": [
        {
          "data": {
            "text/plain": [
              "['jhon', 'paul', 'ringo', 'george']"
            ]
          },
          "execution_count": 79,
          "metadata": {},
          "output_type": "execute_result"
        }
      ],
      "source": [
        "beatles"
      ]
    },
    {
      "cell_type": "code",
      "execution_count": null,
      "metadata": {
        "colab": {
          "base_uri": "https://localhost:8080/"
        },
        "id": "SIBqCb9bn26p",
        "outputId": "3b5dd136-266f-49b6-b422-9dbbbde4b01a"
      },
      "outputs": [
        {
          "data": {
            "text/plain": [
              "['jhon', 'paul']"
            ]
          },
          "execution_count": 82,
          "metadata": {},
          "output_type": "execute_result"
        }
      ],
      "source": [
        "beatles[:1 + 1]"
      ]
    },
    {
      "cell_type": "markdown",
      "metadata": {
        "id": "jIHpZm6CpAbA"
      },
      "source": [
        "##Truco Extra en Slising."
      ]
    },
    {
      "cell_type": "markdown",
      "metadata": {
        "id": "bMbHKppLLnu8"
      },
      "source": []
    }
  ],
  "metadata": {
    "colab": {
      "toc_visible": true,
      "provenance": [],
      "authorship_tag": "ABX9TyPm4tMNVsLbrQcIvSsJxvv9",
      "include_colab_link": true
    },
    "kernelspec": {
      "display_name": "Python 3",
      "name": "python3"
    },
    "language_info": {
      "name": "python"
    }
  },
  "nbformat": 4,
  "nbformat_minor": 0
}