{
  "cells": [
    {
      "cell_type": "markdown",
      "metadata": {
        "id": "view-in-github",
        "colab_type": "text"
      },
      "source": [
        "<a href=\"https://colab.research.google.com/github/Vanessa0ne/Rails/blob/master/estructura_de_control_phyton.ipynb\" target=\"_parent\"><img src=\"https://colab.research.google.com/assets/colab-badge.svg\" alt=\"Open In Colab\"/></a>"
      ]
    },
    {
      "cell_type": "code",
      "execution_count": null,
      "metadata": {
        "id": "AFd08SOU4qGQ"
      },
      "outputs": [],
      "source": [
        "# Preguntar al usuario por un número\n",
        "numero = int(input(\"Introduce un número: \"))\n",
        "\n",
        "# Verificamos si el número es par\n",
        "resto = numero % 2  # Obtenemos el resto de la división del número entre 2\n",
        "\n",
        "if resto == 0:\n",
        "    print(\"El número es par.\")\n",
        "else:\n",
        "    print(\"El número es impar.\")\n"
      ]
    },
    {
      "cell_type": "code",
      "execution_count": null,
      "metadata": {
        "id": "4Nnt0Ygq5KEi"
      },
      "outputs": [],
      "source": [
        "import random\n",
        "\n",
        "# Generar un número aleatorio entre 1 y 100\n",
        "numeroPC = random.randint(1, 100)\n",
        "adivine = False\n",
        "\n",
        "while not adivine:\n",
        "    # Preguntar al usuario por un número\n",
        "    numeroUsuario = int(input(\"Adivina el número: \"))\n",
        "\n",
        "    if numeroPC == numeroUsuario:\n",
        "        print(\"¡Felicitaciones! Has adivinado el número.\")\n",
        "        adivine = True\n",
        "    else:\n",
        "        if numeroUsuario > numeroPC:\n",
        "            print(\"Número muy grande, prueba uno más pequeño.\")\n",
        "        else:\n",
        "            print(\"Número muy pequeño, prueba uno más grande.\")\n"
      ]
    },
    {
      "cell_type": "markdown",
      "metadata": {
        "id": "Gewjtqr8ADcp"
      },
      "source": [
        "#Sintaxis en Python:"
      ]
    },
    {
      "cell_type": "markdown",
      "metadata": {
        "id": "RXugmLE-AKI1"
      },
      "source": [
        "Comentarios\n",
        "\n",
        "Puedes agregar comentarios a tu código anteponiendo #. Todo lo que hay adelante del numeral (en la misma línea) es ignorado. De ésta manera podemos dejar anotaciones o explicaciones en nuestro código.\n",
        "\n",
        "Variables\n",
        "\n",
        "Para crear una variable en Python, lo único que hace falta es darle un nombre, y su valor."
      ]
    },
    {
      "cell_type": "code",
      "execution_count": null,
      "metadata": {
        "id": "3qugsM6A6ZMl"
      },
      "outputs": [],
      "source": [
        "temperatura = 27.2"
      ]
    },
    {
      "cell_type": "markdown",
      "metadata": {
        "id": "Co_5vzUhAWsf"
      },
      "source": [
        "#Algo importantísimo de Python, y que lo diferencia de otros lenguajes de programación, es que no debemos declarar el tipo de datos de una variable al crearla. Python lo infiere automáticamente, en función al valor que le demos.\n",
        "\n",
        "Y no sólo eso, el tipo de variable es flexible, con lo cual si nuestro número pasa de ser flotante a entero, ¡no hay ningún problema! Python ajusta el tipo de datos de la variable automáticamente.\n",
        "\n",
        "Para ver el tipo de datos de una variable, podemos usar la función type()\n",
        "Por ejemplo, en este caso puntual type(temperatura) nos devolverá float\n",
        "\n",
        "Input\n",
        "\n",
        "El input nos permite “pedir” un número o un texto con un mensaje personalizado"
      ]
    },
    {
      "cell_type": "code",
      "execution_count": null,
      "metadata": {
        "id": "gM6MMrziARSt"
      },
      "outputs": [],
      "source": [
        "variable = input(\"mensaje\")"
      ]
    },
    {
      "cell_type": "markdown",
      "metadata": {
        "id": "MhLlYU76AiLs"
      },
      "source": [
        "#Conversión entre tipos de datos\n",
        "\n",
        "En Python, si ponemos el tipo de datos y entre paréntesis una variable, estamos asegurando que el valor de variable se convierta en el tipo de datos que especificamos.\n",
        "\n",
        "Esto es obligatorio cuando pedimos números con input, ya que lo que nos devuelve es texto. Con éste truco, convertimos de texto a número y viceversa."
      ]
    },
    {
      "cell_type": "code",
      "execution_count": null,
      "metadata": {
        "id": "A5XvZkD5AdHR"
      },
      "outputs": [],
      "source": [
        "numero = \"20\" # La variable número es ¡texto!, ¿notas las comillas?\n",
        "entero = int(numero) # forzamos a que número sea efectivamente el número 20\n",
        "decimal = float(numero) # forzamos a que el número sea 20.0"
      ]
    },
    {
      "cell_type": "markdown",
      "metadata": {
        "id": "ymodROX2Au-a"
      },
      "source": [
        "#Print\n",
        "\n",
        "El print hace que la computadora muestre un mensaje, el valor de una variable, o ambos."
      ]
    },
    {
      "cell_type": "code",
      "execution_count": null,
      "metadata": {
        "id": "Sf30ULopApVC"
      },
      "outputs": [],
      "source": [
        "print(\"mensaje\")\n",
        "print(variable) # Las variables van sin comillas\n",
        "print(\"mensaje\", variable) # Dentro de un print, puedo separar distintos elementos por coma, y se imprimen en una línea\n",
        "print(f\"mensaje {variable}\") # El agregar una f antes de las comillas nos permite incluir el valor de una variable (encerrada entre llaves) dentro del mensaje."
      ]
    },
    {
      "cell_type": "markdown",
      "metadata": {
        "id": "U1h14djeA72a"
      },
      "source": [
        "#if y else\n",
        "\n",
        "El conjunto if..else me permite tomar decisiones en base a una condición. Las condiciones son preguntas, que se pueden responder solamente con sí o no / verdadero o falso. Por ejemplo: ¿Es el número A mayor que el número B?\n",
        "\n",
        "Todas las instrucciones que se ejecutan en conjunto, se indentan (o tabulan) en un nivel. Python no usa llaves como otros lenguajes."
      ]
    },
    {
      "cell_type": "code",
      "execution_count": null,
      "metadata": {
        "id": "Y_i5PuMGA4Ht"
      },
      "outputs": [],
      "source": [
        "if (condición):\n",
        "|-- instruccionSiVerdadero()\n",
        "|-- otraInstruccionSiVerdadero()\n",
        "else:\n",
        "|-- instruccionSiFalso()\n"
      ]
    },
    {
      "cell_type": "markdown",
      "metadata": {
        "id": "DjSpjZOOBJYP"
      },
      "source": [
        "#while\n",
        "\n",
        "El bucle while nos permite repetir un código una y otra vez, siempre y cuando la condición que haya dentro sea verdadera.\n",
        "\n",
        "Al igual que el caso anterior, las condiciones son preguntas, que se pueden responder solamente con sí o no / verdadero o falso, y todas las instrucciones que forman parte del bucle o loop, se indentan (o tabulan) en un nivel."
      ]
    },
    {
      "cell_type": "code",
      "execution_count": null,
      "metadata": {
        "id": "ejHSj3D-BD5O"
      },
      "outputs": [],
      "source": [
        "while (condición):\n",
        "|-- instruccionSiVerdadero()\n",
        "|-- otraInstruccionSiVerdadero()\n",
        "\n",
        "# ---- Repite infinitamente si la condición es cierta o True"
      ]
    },
    {
      "cell_type": "markdown",
      "metadata": {
        "id": "MQbUjcupBXC7"
      },
      "source": [
        "#Import random y randint\n",
        "\n",
        "En Python, podemos expandir las funcionalidades con bibliotecas, fragmentos de código que nos dan nuevas herramientas.\n",
        "\n",
        "La función que usamos aquí sirve para generar números aleatorios. Para usarla debemos:\n",
        "\n",
        "importar la biblioteca random con el comando import random\n",
        "# usar la función randint que está dentro de la biblioteca random, como se indica acá abajo"
      ]
    },
    {
      "cell_type": "code",
      "execution_count": null,
      "metadata": {
        "id": "F5TMRYSwBSR5"
      },
      "outputs": [],
      "source": [
        "aleatorio = random.randint(minimo,maximo)\n",
        "# Genera un número aleatorio entero, entre el mínimo y el máximo especificados."
      ]
    },
    {
      "cell_type": "markdown",
      "source": [
        "#MODBUS INSTALL\n",
        "\n",
        "> LIBRERY\n",
        "\n"
      ],
      "metadata": {
        "id": "RS8hefD8hjnD"
      }
    },
    {
      "cell_type": "code",
      "execution_count": null,
      "metadata": {
        "colab": {
          "base_uri": "https://localhost:8080/"
        },
        "id": "B-flEhg-Bka4",
        "outputId": "dd222d0b-956c-4c03-b405-3eb3c3449837"
      },
      "outputs": [
        {
          "name": "stdout",
          "output_type": "stream",
          "text": [
            "Collecting paho-mqtt\n",
            "  Downloading paho_mqtt-2.1.0-py3-none-any.whl (67 kB)\n",
            "\u001b[2K     \u001b[90m━━━━━━━━━━━━━━━━━━━━━━━━━━━━━━━━━━━━━━━━\u001b[0m \u001b[32m67.2/67.2 kB\u001b[0m \u001b[31m888.7 kB/s\u001b[0m eta \u001b[36m0:00:00\u001b[0m\n",
            "\u001b[?25hInstalling collected packages: paho-mqtt\n",
            "Successfully installed paho-mqtt-2.1.0\n"
          ]
        }
      ],
      "source": [
        "!pip install paho-mqtt"
      ]
    },
    {
      "cell_type": "code",
      "execution_count": null,
      "metadata": {
        "colab": {
          "background_save": true,
          "base_uri": "https://localhost:8080/"
        },
        "id": "Wxha0EsysqeZ",
        "outputId": "559c6684-f038-4bfc-959c-d548cb6180ed"
      },
      "outputs": [
        {
          "name": "stderr",
          "output_type": "stream",
          "text": [
            "<ipython-input-6-832add211cf4>:5: DeprecationWarning: Callback API version 1 is deprecated, update to latest version\n",
            "  cliente = mqtt.Client(protocol=mqtt.MQTTv5)\n"
          ]
        }
      ],
      "source": [
        "import paho.mqtt.client as mqtt\n",
        "import time\n",
        "\n",
        "servidor = \"broker.mqtt.cool\"\n",
        "cliente = mqtt.Client(protocol=mqtt.MQTTv5)\n",
        "\n",
        "cliente.connect(servidor, 1883)\n",
        "\n",
        "# --------------------------------------------------------------\n",
        "while True:\n",
        "    cliente.publish(\"DesafioI40\",\"Mensaje desde Python\")\n",
        "    time.sleep(1)"
      ]
    },
    {
      "cell_type": "markdown",
      "source": [
        "#MATPLOTLIB\n",
        "\n",
        ">Generando gráficos con Matplotlib.\n",
        "Matplotlib es una excelente herramienta para trabajar y generar gráficos profesionales.\n",
        "\n",
        "A continuación, les dejo algunos enlaces de interés, y los comandos más utilizados para ésta biblioteca.\n",
        "\n",
        "Importar módulo\n"
      ],
      "metadata": {
        "id": "TppAehuuhzxZ"
      }
    },
    {
      "cell_type": "markdown",
      "source": [
        "**import matplotlib.pyplot as plt**\n",
        "# al importarlo de ésta manera, \"plt\" es el alias de la biblioteca. Nos permite ahorrarnos texto cada vez que la llamemos"
      ],
      "metadata": {
        "id": "gmzwy5FQiyWt"
      }
    },
    {
      "cell_type": "code",
      "execution_count": 1,
      "metadata": {
        "id": "2AMxapUYs9gg"
      },
      "outputs": [],
      "source": [
        "import matplotlib.pyplot as plt\n"
      ]
    },
    {
      "cell_type": "markdown",
      "source": [
        "#Graficar\n",
        "\n",
        "Podemos generar distintos gráficos con distintos comandos\n",
        "\n",
        "plt.plot(valores) #grafica una lista de valores\n",
        "plt.plot(x,y) #arma un gráfico XY de dos listas de valores\n",
        "plt.bar(etiquetas,valores) #hace un gráfico de barras con dos listas, o un diccionario\n",
        "plt.scatter(x,y) #hace un gráfico de dispersión\n",
        "plt.pie(tamaños,labels=etiquetas) # Hace un gráfico de torta, el primero es una lista de valores en %, y lo segundo la lista de etiquetas"
      ],
      "metadata": {
        "id": "PLvtW73ZjHhl"
      }
    },
    {
      "cell_type": "markdown",
      "source": [
        "¡Claro! Podemos crear diferentes tipos de gráficos utilizando las bibliotecas de Python como Matplotlib. Aquí hay ejemplos de cada uno de los gráficos mencionados:\n",
        "\n",
        "##Gráfico de línea:"
      ],
      "metadata": {
        "id": "xQUSZUU5jvLp"
      }
    },
    {
      "cell_type": "code",
      "source": [
        "import matplotlib.pyplot as plt\n",
        "\n",
        "valores = [1, 2, 3, 4, 5]\n",
        "plt.plot(valores)\n",
        "plt.title('Gráfico de Línea')\n",
        "plt.xlabel('Índice')\n",
        "plt.ylabel('Valores')\n",
        "plt.show()\n"
      ],
      "metadata": {
        "colab": {
          "base_uri": "https://localhost:8080/",
          "height": 472
        },
        "id": "ftC5GkNLjzQq",
        "outputId": "e9e3514d-b1a4-4795-d494-92b812bffbaf"
      },
      "execution_count": 3,
      "outputs": [
        {
          "output_type": "display_data",
          "data": {
            "text/plain": [
              "<Figure size 640x480 with 1 Axes>"
            ],
            "image/png": "[encoded data removed]"
          },
          "metadata": {}
        }
      ]
    },
    {
      "cell_type": "markdown",
      "source": [
        "##Gráfico XY:"
      ],
      "metadata": {
        "id": "c6IPr26nj_Ux"
      }
    },
    {
      "cell_type": "code",
      "source": [
        "x = [1, 2, 3, 4, 5]\n",
        "y = [2, 3, 5, 7, 11]\n",
        "plt.plot(x, y)\n",
        "plt.title('Gráfico XY')\n",
        "plt.xlabel('X')\n",
        "plt.ylabel('Y')\n",
        "plt.show()\n"
      ],
      "metadata": {
        "colab": {
          "base_uri": "https://localhost:8080/",
          "height": 472
        },
        "id": "kFxS0wvPj4h6",
        "outputId": "dece8e3d-68d4-44cd-88f4-4f5999f842bf"
      },
      "execution_count": 4,
      "outputs": [
        {
          "output_type": "display_data",
          "data": {
            "text/plain": [
              "<Figure size 640x480 with 1 Axes>"
            ],
            "image/png": "[encoded data removed]"
          },
          "metadata": {}
        }
      ]
    },
    {
      "cell_type": "markdown",
      "source": [
        "##Gráfico de barras:"
      ],
      "metadata": {
        "id": "r7Wy_wY9kPsJ"
      }
    },
    {
      "cell_type": "code",
      "source": [
        "etiquetas = ['A', 'B', 'C', 'D']\n",
        "valores = [10, 20, 15, 5]\n",
        "plt.bar(etiquetas, valores)\n",
        "plt.title('Gráfico de Barras')\n",
        "plt.xlabel('Etiquetas')\n",
        "plt.ylabel('Valores')\n",
        "plt.show()\n"
      ],
      "metadata": {
        "colab": {
          "base_uri": "https://localhost:8080/",
          "height": 472
        },
        "id": "ocawnjtKkFXz",
        "outputId": "20dda102-2d32-435f-93a0-e1e3cfabbaea"
      },
      "execution_count": 5,
      "outputs": [
        {
          "output_type": "display_data",
          "data": {
            "text/plain": [
              "<Figure size 640x480 with 1 Axes>"
            ],
            "image/png": "[encoded data removed]"
          },
          "metadata": {}
        }
      ]
    },
    {
      "cell_type": "code",
      "source": [],
      "metadata": {
        "id": "-xA2rAVXkVz1"
      },
      "execution_count": null,
      "outputs": []
    }
  ],
  "metadata": {
    "colab": {
      "provenance": [],
      "authorship_tag": "ABX9TyNjpx9Xfm3W9+HlyDUEsaN7",
      "include_colab_link": true
    },
    "kernelspec": {
      "display_name": "Python 3",
      "name": "python3"
    },
    "language_info": {
      "name": "python"
    }
  },
  "nbformat": 4,
  "nbformat_minor": 0
}